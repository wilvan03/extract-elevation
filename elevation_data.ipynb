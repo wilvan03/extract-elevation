{
 "cells": [
  {
   "cell_type": "markdown",
   "metadata": {},
   "source": [
    "### 1 Data"
   ]
  },
  {
   "cell_type": "code",
   "execution_count": 15,
   "metadata": {},
   "outputs": [
    {
     "name": "stdout",
     "output_type": "stream",
     "text": [
      "Elevation: 736.0 meters\n"
     ]
    }
   ],
   "source": [
    "import requests\n",
    "\n",
    "# Define coordinates (latitude, longitude)\n",
    "lat, lon = -6.9061920783542, 107.32333620661745\n",
    "\n",
    "# Open-Elevation API endpoint\n",
    "url =f\"https://api.opentopodata.org/v1/aster30m?locations={lat},{lon}\"\n",
    "\n",
    "# Send GET request\n",
    "response = requests.get(url)\n",
    "\n",
    "# Parse JSON response\n",
    "if response.status_code == 200:\n",
    "    data = response.json()\n",
    "    elevation = data[\"results\"][0][\"elevation\"]\n",
    "    print(f\"Elevation: {elevation} meters\")\n",
    "else:\n",
    "    print(\"Error:\", response.status_code)"
   ]
  },
  {
   "cell_type": "markdown",
   "metadata": {},
   "source": [
    "### To txt"
   ]
  },
  {
   "cell_type": "code",
   "execution_count": 7,
   "metadata": {},
   "outputs": [
    {
     "name": "stderr",
     "output_type": "stream",
     "text": [
      "/Library/Frameworks/Python.framework/Versions/3.13/lib/python3.13/site-packages/osgeo/gdal.py:314: FutureWarning: Neither gdal.UseExceptions() nor gdal.DontUseExceptions() has been explicitly called. In GDAL 4.0, exceptions will be enabled by default.\n",
      "  warnings.warn(\n"
     ]
    },
    {
     "name": "stdout",
     "output_type": "stream",
     "text": [
      "GeoTIFF extracted to output_AW3D30.json\n"
     ]
    }
   ],
   "source": [
    "from osgeo import gdal\n",
    "import numpy as np\n",
    "\n",
    "# Open the GeoTIFF file\n",
    "dataset = gdal.Open(\"output_AW3D30.tif\")\n",
    "band = dataset.GetRasterBand(1)  # Get the first band (elevation data)\n",
    "elevation = band.ReadAsArray()  # Convert to NumPy array\n",
    "\n",
    "# Get GeoTransform to map pixels to coordinates\n",
    "gt = dataset.GetGeoTransform()\n",
    "x_min, x_res, _, y_max, _, y_res = gt\n",
    "x_max = x_min + (dataset.RasterXSize * x_res)\n",
    "y_min = y_max + (dataset.RasterYSize * y_res)\n",
    "\n",
    "# Create coordinate grid\n",
    "lon = np.linspace(x_min, x_max, dataset.RasterXSize)\n",
    "lat = np.linspace(y_max, y_min, dataset.RasterYSize)\n",
    "lon_grid, lat_grid = np.meshgrid(lon, lat)\n",
    "\n",
    "# Save as JSON\n",
    "import json\n",
    "data = []\n",
    "for i in range(dataset.RasterYSize):\n",
    "    for j in range(dataset.RasterXSize):\n",
    "        data.append({\n",
    "            \"latitude\": float(lat_grid[i, j]),\n",
    "            \"longitude\": float(lon_grid[i, j]),\n",
    "            \"elevation\": float(elevation[i, j])\n",
    "        })\n",
    "\n",
    "with open(\"output_AW3D30.json\", \"w\") as f:\n",
    "    json.dump(data, f, indent=4)\n",
    "\n",
    "print(\"GeoTIFF extracted to output_AW3D30.json\")"
   ]
  },
  {
   "cell_type": "markdown",
   "metadata": {},
   "source": [
    "### Cek data"
   ]
  },
  {
   "cell_type": "code",
   "execution_count": 9,
   "metadata": {},
   "outputs": [
    {
     "name": "stdout",
     "output_type": "stream",
     "text": [
      "Total entries: 6091936\n"
     ]
    }
   ],
   "source": [
    "import json\n",
    "\n",
    "# Load JSON file\n",
    "with open(\"output_AW3D30.json\", \"r\") as file:\n",
    "    data = json.load(file)\n",
    "\n",
    "# Check the number of entries\n",
    "if isinstance(data, list):\n",
    "    print(f\"Total entries: {len(data)}\")\n",
    "elif isinstance(data, dict):\n",
    "    print(f\"Total keys: {len(data.keys())}\")\n",
    "else:\n",
    "    print(\"Unknown JSON format\")"
   ]
  },
  {
   "cell_type": "code",
   "execution_count": 13,
   "metadata": {},
   "outputs": [
    {
     "name": "stdout",
     "output_type": "stream",
     "text": [
      "Distance: 30.71 meters\n",
      "3817553.4002595027\n"
     ]
    }
   ],
   "source": [
    "import math\n",
    "\n",
    "def lon_distance_meters(lon1, lon2, lat):\n",
    "    \"\"\"Calculate distance in meters between two longitudes at a given latitude.\"\"\"\n",
    "    meters_per_degree = 111320 * math.cos(math.radians(lat))\n",
    "    return abs(lon2 - lon1) * meters_per_degree\n",
    "\n",
    "# Given longitude values\n",
    "lon1 = 107.31472222226273\n",
    "lon2 = 107.31500009272578\n",
    "latitude = -6.9  # Example: Bandung, Indonesia\n",
    "\n",
    "# Calculate distance\n",
    "distance_m = lon_distance_meters(lon1, lon2, latitude)\n",
    "print(f\"Distance: {distance_m:.2f} meters\")\n",
    "\n",
    "print(60000**2/distance_m**2)\n"
   ]
  }
 ],
 "metadata": {
  "kernelspec": {
   "display_name": "Python 3",
   "language": "python",
   "name": "python3"
  },
  "language_info": {
   "codemirror_mode": {
    "name": "ipython",
    "version": 3
   },
   "file_extension": ".py",
   "mimetype": "text/x-python",
   "name": "python",
   "nbconvert_exporter": "python",
   "pygments_lexer": "ipython3",
   "version": "3.13.2"
  }
 },
 "nbformat": 4,
 "nbformat_minor": 2
}
